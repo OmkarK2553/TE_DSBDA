{
 "cells": [
  {
   "cell_type": "code",
   "execution_count": 1,
   "id": "f35fdd91",
   "metadata": {},
   "outputs": [],
   "source": [
    "import numpy as np\n",
    "import pandas as pd\n",
    "import matplotlib.pyplot as plt\n",
    "import seaborn as sns"
   ]
  },
  {
   "cell_type": "code",
   "execution_count": 2,
   "id": "e7954ba2",
   "metadata": {},
   "outputs": [],
   "source": [
    "import nltk\n",
    "from nltk.tokenize import word_tokenize,sent_tokenize\n",
    "from nltk.corpus import stopwords\n",
    "from nltk import pos_tag\n",
    "from nltk.stem import PorterStemmer,WordNetLemmatizer\n",
    "from sklearn.feature_extraction.text import TfidfVectorizer"
   ]
  },
  {
   "cell_type": "code",
   "execution_count": 5,
   "id": "c8b92d08",
   "metadata": {},
   "outputs": [
    {
     "name": "stderr",
     "output_type": "stream",
     "text": [
      "[nltk_data] Error loading punkt: <urlopen error [WinError 10061] No\n",
      "[nltk_data]     connection could be made because the target machine\n",
      "[nltk_data]     actively refused it>\n",
      "[nltk_data] Error loading stopwords: <urlopen error [WinError 10061]\n",
      "[nltk_data]     No connection could be made because the target machine\n",
      "[nltk_data]     actively refused it>\n",
      "[nltk_data] Error loading wordnet: <urlopen error [WinError 10061] No\n",
      "[nltk_data]     connection could be made because the target machine\n",
      "[nltk_data]     actively refused it>\n"
     ]
    },
    {
     "data": {
      "text/plain": [
       "False"
      ]
     },
     "execution_count": 5,
     "metadata": {},
     "output_type": "execute_result"
    }
   ],
   "source": [
    "# nltk.download('punkt')\n",
    "# nltk.download('stopwords')\n",
    "# nltk.download('wordnet')"
   ]
  },
  {
   "cell_type": "code",
   "execution_count": 6,
   "id": "aca1a1a5",
   "metadata": {},
   "outputs": [],
   "source": [
    "text = pd.read_csv(\"omkar.txt\",delimiter=\"\\t\")"
   ]
  },
  {
   "cell_type": "code",
   "execution_count": 7,
   "id": "5b3a8481",
   "metadata": {},
   "outputs": [
    {
     "data": {
      "text/html": [
       "<div>\n",
       "<style scoped>\n",
       "    .dataframe tbody tr th:only-of-type {\n",
       "        vertical-align: middle;\n",
       "    }\n",
       "\n",
       "    .dataframe tbody tr th {\n",
       "        vertical-align: top;\n",
       "    }\n",
       "\n",
       "    .dataframe thead th {\n",
       "        text-align: right;\n",
       "    }\n",
       "</style>\n",
       "<table border=\"1\" class=\"dataframe\">\n",
       "  <thead>\n",
       "    <tr style=\"text-align: right;\">\n",
       "      <th></th>\n",
       "      <th>In the given code snippet, fpr, tpr, and _ are variables used to store the results returned by the roc_curve function. Here's what each variable represents:</th>\n",
       "    </tr>\n",
       "  </thead>\n",
       "  <tbody>\n",
       "    <tr>\n",
       "      <th>0</th>\n",
       "      <td>fpr: It stands for False Positive Rate. fpr is...</td>\n",
       "    </tr>\n",
       "    <tr>\n",
       "      <th>1</th>\n",
       "      <td>tpr: It stands for True Positive Rate. tpr is ...</td>\n",
       "    </tr>\n",
       "    <tr>\n",
       "      <th>2</th>\n",
       "      <td>_: It is a throwaway variable commonly used wh...</td>\n",
       "    </tr>\n",
       "    <tr>\n",
       "      <th>3</th>\n",
       "      <td>The roc_curve function from scikit-learn compu...</td>\n",
       "    </tr>\n",
       "    <tr>\n",
       "      <th>4</th>\n",
       "      <td>By plotting the fpr against the tpr using plt....</td>\n",
       "    </tr>\n",
       "  </tbody>\n",
       "</table>\n",
       "</div>"
      ],
      "text/plain": [
       "  In the given code snippet, fpr, tpr, and _ are variables used to store the results returned by the roc_curve function. Here's what each variable represents:\n",
       "0  fpr: It stands for False Positive Rate. fpr is...                                                                                                          \n",
       "1  tpr: It stands for True Positive Rate. tpr is ...                                                                                                          \n",
       "2  _: It is a throwaway variable commonly used wh...                                                                                                          \n",
       "3  The roc_curve function from scikit-learn compu...                                                                                                          \n",
       "4  By plotting the fpr against the tpr using plt....                                                                                                          "
      ]
     },
     "execution_count": 7,
     "metadata": {},
     "output_type": "execute_result"
    }
   ],
   "source": [
    "text"
   ]
  },
  {
   "cell_type": "code",
   "execution_count": 8,
   "id": "d66ad6c4",
   "metadata": {},
   "outputs": [],
   "source": [
    "with open('omkar.txt') as f:\n",
    "    para=f.read()\n",
    "    para=para.lower()"
   ]
  },
  {
   "cell_type": "code",
   "execution_count": 9,
   "id": "99339884",
   "metadata": {},
   "outputs": [
    {
     "data": {
      "text/plain": [
       "\"in the given code snippet, fpr, tpr, and _ are variables used to store the results returned by the roc_curve function. here's what each variable represents:\\n\\nfpr: it stands for false positive rate. fpr is an array or list of false positive rates computed for different threshold values. false positive rate is the ratio of false positive predictions to the total number of actual negative samples.\\n\\ntpr: it stands for true positive rate. tpr is an array or list of true positive rates computed for different threshold values. true positive rate is the ratio of true positive predictions to the total number of actual positive samples.\\n\\n_: it is a throwaway variable commonly used when unpacking the results of a function call. in this case, _ is used to store the third returned value from roc_curve function, which represents the thresholds used to compute the false positive rate and true positive rate.\\n\\nthe roc_curve function from scikit-learn computes the false positive rate (fpr), true positive rate (tpr), and thresholds based on the true labels and predicted scores or probabilities. these values are then used to plot the roc curve and calculate the area under the curve (aoc) score.\\n\\nby plotting the fpr against the tpr using plt.plot(fpr, tpr), you can visualize the roc curve, and the aoc_score is calculated using the auc function from scikit-learn, representing the area under the roc curve.\""
      ]
     },
     "execution_count": 9,
     "metadata": {},
     "output_type": "execute_result"
    }
   ],
   "source": [
    "para"
   ]
  }
 ],
 "metadata": {
  "kernelspec": {
   "display_name": "Python 3 (ipykernel)",
   "language": "python",
   "name": "python3"
  },
  "language_info": {
   "codemirror_mode": {
    "name": "ipython",
    "version": 3
   },
   "file_extension": ".py",
   "mimetype": "text/x-python",
   "name": "python",
   "nbconvert_exporter": "python",
   "pygments_lexer": "ipython3",
   "version": "3.9.12"
  }
 },
 "nbformat": 4,
 "nbformat_minor": 5
}
